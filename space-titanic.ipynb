{
 "cells": [
  {
   "cell_type": "code",
   "execution_count": 1,
   "id": "42986afb",
   "metadata": {
    "_cell_guid": "b1076dfc-b9ad-4769-8c92-a6c4dae69d19",
    "_uuid": "8f2839f25d086af736a60e9eeb907d3b93b6e0e5",
    "execution": {
     "iopub.execute_input": "2022-09-16T01:44:39.343053Z",
     "iopub.status.busy": "2022-09-16T01:44:39.341687Z",
     "iopub.status.idle": "2022-09-16T01:44:40.350585Z",
     "shell.execute_reply": "2022-09-16T01:44:40.349432Z"
    },
    "papermill": {
     "duration": 1.017704,
     "end_time": "2022-09-16T01:44:40.353607",
     "exception": false,
     "start_time": "2022-09-16T01:44:39.335903",
     "status": "completed"
    },
    "tags": []
   },
   "outputs": [],
   "source": [
    "# This Python 3 environment comes with many helpful analytics libraries installed\n",
    "# It is defined by the kaggle/python Docker image: https://github.com/kaggle/docker-python\n",
    "# For example, here's several helpful packages to load\n",
    "\n",
    "import numpy as np # linear algebra\n",
    "import pandas as pd # data processing, CSV file I/O (e.g. pd.read_csv)\n",
    "import seaborn as sns\n",
    "import matplotlib.pyplot as plt\n",
    "\n",
    "# Input data files are available in the read-only \"../input/\" directory\n",
    "# For example, running this (by clicking run or pressing Shift+Enter) will list all files under the input directory\n",
    "\n",
    "# import os\n",
    "# for dirname, _, filenames in os.walk('/kaggle/input'):\n",
    "#     for filename in filenames:\n",
    "#         print(os.path.join(dirname, filename))\n",
    "\n",
    "# You can write up to 20GB to the current directory (/kaggle/working/) that gets preserved as output when you create a version using \"Save & Run All\" \n",
    "# You can also write temporary files to /kaggle/temp/, but they won't be saved outside of the current session"
   ]
  },
  {
   "cell_type": "code",
   "execution_count": 2,
   "id": "961b4d0a",
   "metadata": {
    "execution": {
     "iopub.execute_input": "2022-09-16T01:44:40.361134Z",
     "iopub.status.busy": "2022-09-16T01:44:40.360738Z",
     "iopub.status.idle": "2022-09-16T01:44:42.454828Z",
     "shell.execute_reply": "2022-09-16T01:44:42.453604Z"
    },
    "papermill": {
     "duration": 2.100903,
     "end_time": "2022-09-16T01:44:42.457721",
     "exception": false,
     "start_time": "2022-09-16T01:44:40.356818",
     "status": "completed"
    },
    "tags": []
   },
   "outputs": [
    {
     "name": "stdout",
     "output_type": "stream",
     "text": [
      ".  ..  __notebook__.ipynb\r\n"
     ]
    }
   ],
   "source": [
    "!cd ../\n",
    "!ls -a"
   ]
  },
  {
   "cell_type": "code",
   "execution_count": 3,
   "id": "c2bb78a2",
   "metadata": {
    "execution": {
     "iopub.execute_input": "2022-09-16T01:44:42.466320Z",
     "iopub.status.busy": "2022-09-16T01:44:42.465565Z",
     "iopub.status.idle": "2022-09-16T01:44:42.545664Z",
     "shell.execute_reply": "2022-09-16T01:44:42.544666Z"
    },
    "papermill": {
     "duration": 0.08757,
     "end_time": "2022-09-16T01:44:42.548475",
     "exception": false,
     "start_time": "2022-09-16T01:44:42.460905",
     "status": "completed"
    },
    "tags": []
   },
   "outputs": [],
   "source": [
    "df_train=pd.read_csv(\"/kaggle/input/spaceship-titanic/train.csv\")\n",
    "df_test=pd.read_csv(\"/kaggle/input/spaceship-titanic/test.csv\")\n"
   ]
  },
  {
   "cell_type": "code",
   "execution_count": 4,
   "id": "c4e859a5",
   "metadata": {
    "execution": {
     "iopub.execute_input": "2022-09-16T01:44:42.555876Z",
     "iopub.status.busy": "2022-09-16T01:44:42.555525Z",
     "iopub.status.idle": "2022-09-16T01:44:42.573340Z",
     "shell.execute_reply": "2022-09-16T01:44:42.572341Z"
    },
    "papermill": {
     "duration": 0.024313,
     "end_time": "2022-09-16T01:44:42.575891",
     "exception": false,
     "start_time": "2022-09-16T01:44:42.551578",
     "status": "completed"
    },
    "tags": []
   },
   "outputs": [],
   "source": [
    "df_Transported=df_train[df_train[\"Transported\"]==True]\n",
    "df_UnTransported=df_train[df_train[\"Transported\"]==False]"
   ]
  },
  {
   "cell_type": "code",
   "execution_count": 5,
   "id": "af0e125f",
   "metadata": {
    "execution": {
     "iopub.execute_input": "2022-09-16T01:44:42.583313Z",
     "iopub.status.busy": "2022-09-16T01:44:42.582896Z",
     "iopub.status.idle": "2022-09-16T01:44:42.606602Z",
     "shell.execute_reply": "2022-09-16T01:44:42.605234Z"
    },
    "papermill": {
     "duration": 0.030293,
     "end_time": "2022-09-16T01:44:42.609124",
     "exception": false,
     "start_time": "2022-09-16T01:44:42.578831",
     "status": "completed"
    },
    "tags": []
   },
   "outputs": [
    {
     "name": "stdout",
     "output_type": "stream",
     "text": [
      "<class 'pandas.core.frame.DataFrame'>\n",
      "Int64Index: 4378 entries, 1 to 8692\n",
      "Data columns (total 14 columns):\n",
      " #   Column        Non-Null Count  Dtype  \n",
      "---  ------        --------------  -----  \n",
      " 0   PassengerId   4378 non-null   object \n",
      " 1   HomePlanet    4275 non-null   object \n",
      " 2   CryoSleep     4272 non-null   object \n",
      " 3   Cabin         4278 non-null   object \n",
      " 4   Destination   4286 non-null   object \n",
      " 5   Age           4288 non-null   float64\n",
      " 6   VIP           4274 non-null   object \n",
      " 7   RoomService   4295 non-null   float64\n",
      " 8   FoodCourt     4279 non-null   float64\n",
      " 9   ShoppingMall  4264 non-null   float64\n",
      " 10  Spa           4287 non-null   float64\n",
      " 11  VRDeck        4280 non-null   float64\n",
      " 12  Name          4277 non-null   object \n",
      " 13  Transported   4378 non-null   bool   \n",
      "dtypes: bool(1), float64(6), object(7)\n",
      "memory usage: 483.1+ KB\n"
     ]
    }
   ],
   "source": [
    "# df_Transported[\"Age\"].hist(alpha=0.3,color=\"green\")\n",
    "# df_UnTransported[\"Age\"].hist(alpha=0.3,color=\"red\")\n",
    "df_Transported.info()"
   ]
  },
  {
   "cell_type": "code",
   "execution_count": 6,
   "id": "a5126adb",
   "metadata": {
    "execution": {
     "iopub.execute_input": "2022-09-16T01:44:42.616469Z",
     "iopub.status.busy": "2022-09-16T01:44:42.615804Z",
     "iopub.status.idle": "2022-09-16T01:44:42.655192Z",
     "shell.execute_reply": "2022-09-16T01:44:42.653910Z"
    },
    "papermill": {
     "duration": 0.045595,
     "end_time": "2022-09-16T01:44:42.657674",
     "exception": false,
     "start_time": "2022-09-16T01:44:42.612079",
     "status": "completed"
    },
    "tags": []
   },
   "outputs": [
    {
     "data": {
      "text/html": [
       "<div>\n",
       "<style scoped>\n",
       "    .dataframe tbody tr th:only-of-type {\n",
       "        vertical-align: middle;\n",
       "    }\n",
       "\n",
       "    .dataframe tbody tr th {\n",
       "        vertical-align: top;\n",
       "    }\n",
       "\n",
       "    .dataframe thead th {\n",
       "        text-align: right;\n",
       "    }\n",
       "</style>\n",
       "<table border=\"1\" class=\"dataframe\">\n",
       "  <thead>\n",
       "    <tr style=\"text-align: right;\">\n",
       "      <th></th>\n",
       "      <th>Age</th>\n",
       "      <th>RoomService</th>\n",
       "      <th>FoodCourt</th>\n",
       "      <th>ShoppingMall</th>\n",
       "      <th>Spa</th>\n",
       "      <th>VRDeck</th>\n",
       "    </tr>\n",
       "  </thead>\n",
       "  <tbody>\n",
       "    <tr>\n",
       "      <th>count</th>\n",
       "      <td>4288.000000</td>\n",
       "      <td>4295.000000</td>\n",
       "      <td>4279.000000</td>\n",
       "      <td>4264.000000</td>\n",
       "      <td>4287.000000</td>\n",
       "      <td>4280.000000</td>\n",
       "    </tr>\n",
       "    <tr>\n",
       "      <th>mean</th>\n",
       "      <td>27.748834</td>\n",
       "      <td>63.098021</td>\n",
       "      <td>532.691984</td>\n",
       "      <td>179.829972</td>\n",
       "      <td>61.675531</td>\n",
       "      <td>69.148131</td>\n",
       "    </tr>\n",
       "    <tr>\n",
       "      <th>std</th>\n",
       "      <td>15.151705</td>\n",
       "      <td>274.812497</td>\n",
       "      <td>1931.306995</td>\n",
       "      <td>722.026714</td>\n",
       "      <td>262.682871</td>\n",
       "      <td>291.658171</td>\n",
       "    </tr>\n",
       "    <tr>\n",
       "      <th>min</th>\n",
       "      <td>0.000000</td>\n",
       "      <td>0.000000</td>\n",
       "      <td>0.000000</td>\n",
       "      <td>0.000000</td>\n",
       "      <td>0.000000</td>\n",
       "      <td>0.000000</td>\n",
       "    </tr>\n",
       "    <tr>\n",
       "      <th>25%</th>\n",
       "      <td>18.000000</td>\n",
       "      <td>0.000000</td>\n",
       "      <td>0.000000</td>\n",
       "      <td>0.000000</td>\n",
       "      <td>0.000000</td>\n",
       "      <td>0.000000</td>\n",
       "    </tr>\n",
       "    <tr>\n",
       "      <th>50%</th>\n",
       "      <td>26.000000</td>\n",
       "      <td>0.000000</td>\n",
       "      <td>0.000000</td>\n",
       "      <td>0.000000</td>\n",
       "      <td>0.000000</td>\n",
       "      <td>0.000000</td>\n",
       "    </tr>\n",
       "    <tr>\n",
       "      <th>75%</th>\n",
       "      <td>37.000000</td>\n",
       "      <td>0.000000</td>\n",
       "      <td>0.000000</td>\n",
       "      <td>0.000000</td>\n",
       "      <td>0.000000</td>\n",
       "      <td>0.000000</td>\n",
       "    </tr>\n",
       "    <tr>\n",
       "      <th>max</th>\n",
       "      <td>78.000000</td>\n",
       "      <td>3992.000000</td>\n",
       "      <td>29813.000000</td>\n",
       "      <td>23492.000000</td>\n",
       "      <td>4103.000000</td>\n",
       "      <td>5063.000000</td>\n",
       "    </tr>\n",
       "  </tbody>\n",
       "</table>\n",
       "</div>"
      ],
      "text/plain": [
       "               Age  RoomService     FoodCourt  ShoppingMall          Spa  \\\n",
       "count  4288.000000  4295.000000   4279.000000   4264.000000  4287.000000   \n",
       "mean     27.748834    63.098021    532.691984    179.829972    61.675531   \n",
       "std      15.151705   274.812497   1931.306995    722.026714   262.682871   \n",
       "min       0.000000     0.000000      0.000000      0.000000     0.000000   \n",
       "25%      18.000000     0.000000      0.000000      0.000000     0.000000   \n",
       "50%      26.000000     0.000000      0.000000      0.000000     0.000000   \n",
       "75%      37.000000     0.000000      0.000000      0.000000     0.000000   \n",
       "max      78.000000  3992.000000  29813.000000  23492.000000  4103.000000   \n",
       "\n",
       "            VRDeck  \n",
       "count  4280.000000  \n",
       "mean     69.148131  \n",
       "std     291.658171  \n",
       "min       0.000000  \n",
       "25%       0.000000  \n",
       "50%       0.000000  \n",
       "75%       0.000000  \n",
       "max    5063.000000  "
      ]
     },
     "execution_count": 6,
     "metadata": {},
     "output_type": "execute_result"
    }
   ],
   "source": [
    "df_Transported.describe()"
   ]
  },
  {
   "cell_type": "code",
   "execution_count": 7,
   "id": "5f917605",
   "metadata": {
    "execution": {
     "iopub.execute_input": "2022-09-16T01:44:42.666488Z",
     "iopub.status.busy": "2022-09-16T01:44:42.665431Z",
     "iopub.status.idle": "2022-09-16T01:44:44.023990Z",
     "shell.execute_reply": "2022-09-16T01:44:44.022821Z"
    },
    "papermill": {
     "duration": 1.365522,
     "end_time": "2022-09-16T01:44:44.026500",
     "exception": false,
     "start_time": "2022-09-16T01:44:42.660978",
     "status": "completed"
    },
    "tags": []
   },
   "outputs": [
    {
     "data": {
      "image/png": "[encoded data removed]",
      "text/plain": [
       "<Figure size 432x288 with 1 Axes>"
      ]
     },
     "metadata": {
      "needs_background": "light"
     },
     "output_type": "display_data"
    },
    {
     "data": {
      "image/png": "[encoded data removed]",
      "text/plain": [
       "<Figure size 432x288 with 1 Axes>"
      ]
     },
     "metadata": {
      "needs_background": "light"
     },
     "output_type": "display_data"
    },
    {
     "data": {
      "image/png": "[encoded data removed]",
      "text/plain": [
       "<Figure size 432x288 with 1 Axes>"
      ]
     },
     "metadata": {
      "needs_background": "light"
     },
     "output_type": "display_data"
    },
    {
     "data": {
      "image/png": "[encoded data removed]",
      "text/plain": [
       "<Figure size 432x288 with 1 Axes>"
      ]
     },
     "metadata": {
      "needs_background": "light"
     },
     "output_type": "display_data"
    },
    {
     "data": {
      "image/png": "[encoded data removed]",
      "text/plain": [
       "<Figure size 432x288 with 1 Axes>"
      ]
     },
     "metadata": {
      "needs_background": "light"
     },
     "output_type": "display_data"
    },
    {
     "data": {
      "image/png": "[encoded data removed]",
      "text/plain": [
       "<Figure size 432x288 with 1 Axes>"
      ]
     },
     "metadata": {
      "needs_background": "light"
     },
     "output_type": "display_data"
    }
   ],
   "source": [
    "def make_hist(column_name):\n",
    "    fig, ax = plt.subplots()\n",
    "\n",
    "    Transported = df_Transported[column_name].values\n",
    "    UnTransported = df_UnTransported[column_name].values\n",
    "\n",
    "    binwidth=15\n",
    "    bins1 = np.linspace(0, 100, 10)\n",
    "\n",
    "    plt.hist([Transported, UnTransported], label=['Transported', 'UnTransported'],\n",
    "            bins=np.arange(min(Transported), max(Transported) + binwidth, (max(Transported)-min(Transported))/10),\n",
    "            )\n",
    "    \n",
    "    plt.legend(loc='upper right')\n",
    "    plt.title(column_name)\n",
    "    plt.show()\n",
    "    \n",
    "make_hist(\"Age\")\n",
    "make_hist(\"RoomService\")\n",
    "make_hist(\"FoodCourt\")\n",
    "make_hist(\"ShoppingMall\")\n",
    "make_hist(\"Spa\")\n",
    "make_hist(\"VRDeck\")\n"
   ]
  },
  {
   "cell_type": "code",
   "execution_count": null,
   "id": "321a81f0",
   "metadata": {
    "papermill": {
     "duration": 0.004633,
     "end_time": "2022-09-16T01:44:44.036042",
     "exception": false,
     "start_time": "2022-09-16T01:44:44.031409",
     "status": "completed"
    },
    "tags": []
   },
   "outputs": [],
   "source": []
  }
 ],
 "metadata": {
  "kernelspec": {
   "display_name": "Python 3",
   "language": "python",
   "name": "python3"
  },
  "language_info": {
   "codemirror_mode": {
    "name": "ipython",
    "version": 3
   },
   "file_extension": ".py",
   "mimetype": "text/x-python",
   "name": "python",
   "nbconvert_exporter": "python",
   "pygments_lexer": "ipython3",
   "version": "3.7.12"
  },
  "papermill": {
   "default_parameters": {},
   "duration": 14.584034,
   "end_time": "2022-09-16T01:44:44.765909",
   "environment_variables": {},
   "exception": null,
   "input_path": "__notebook__.ipynb",
   "output_path": "__notebook__.ipynb",
   "parameters": {},
   "start_time": "2022-09-16T01:44:30.181875",
   "version": "2.3.4"
  }
 },
 "nbformat": 4,
 "nbformat_minor": 5
}
